{
 "cells": [
  {
   "cell_type": "code",
   "execution_count": 10,
   "metadata": {},
   "outputs": [],
   "source": [
    "import pandas as pd\n",
    "from sklearn.model_selection import train_test_split\n",
    "from sklearn.preprocessing import LabelEncoder\n",
    "from sklearn.metrics import accuracy_score, confusion_matrix, classification_report\n",
    "from sklearn.ensemble import RandomForestClassifier, GradientBoostingClassifier, AdaBoostClassifier, BaggingClassifier\n",
    "from sklearn.linear_model import LogisticRegression\n",
    "from sklearn.svm import SVC\n",
    "from sklearn.tree import DecisionTreeClassifier\n",
    "from sklearn.neighbors import KNeighborsClassifier\n",
    "import xgboost as xgb\n",
    "import lightgbm as lgb\n"
   ]
  },
  {
   "cell_type": "code",
   "execution_count": 11,
   "metadata": {},
   "outputs": [],
   "source": [
    "metaverse_df = pd.read_csv('metaverse_transactions_dataset.csv')\n",
    "\n",
    "# Drop unnecessary columns\n",
    "drop_columns = ['timestamp', 'sending_address', 'receiving_address']\n",
    "metaverse_df = metaverse_df.drop(drop_columns, axis=1)"
   ]
  },
  {
   "cell_type": "code",
   "execution_count": 12,
   "metadata": {},
   "outputs": [
    {
     "data": {
      "text/plain": [
       "Index(['hour_of_day', 'amount', 'transaction_type', 'location_region',\n",
       "       'ip_prefix', 'login_frequency', 'session_duration', 'purchase_pattern',\n",
       "       'age_group', 'risk_score', 'anomaly'],\n",
       "      dtype='object')"
      ]
     },
     "execution_count": 12,
     "metadata": {},
     "output_type": "execute_result"
    }
   ],
   "source": [
    "metaverse_df.columns"
   ]
  },
  {
   "cell_type": "code",
   "execution_count": 13,
   "metadata": {},
   "outputs": [],
   "source": [
    "object_columns = ['transaction_type', 'location_region', 'purchase_pattern', 'age_group']\n",
    "for col in object_columns:\n",
    "    le = LabelEncoder()\n",
    "    metaverse_df[col] = le.fit_transform(metaverse_df[col])\n",
    "\n",
    "# Define features and target\n",
    "X = metaverse_df.drop('anomaly', axis=1)\n",
    "y = metaverse_df['anomaly']\n",
    "\n",
    "X_train, X_test, y_train, y_test = train_test_split(X, y, test_size=0.2, random_state=42)\n"
   ]
  },
  {
   "cell_type": "code",
   "execution_count": 14,
   "metadata": {},
   "outputs": [
    {
     "name": "stderr",
     "output_type": "stream",
     "text": [
      "/Users/pranavsekhar/miniconda3/envs/prw1/lib/python3.9/site-packages/xgboost/sklearn.py:1395: UserWarning: `use_label_encoder` is deprecated in 1.7.0.\n",
      "  warnings.warn(\"`use_label_encoder` is deprecated in 1.7.0.\")\n"
     ]
    },
    {
     "name": "stdout",
     "output_type": "stream",
     "text": [
      "RandomForest - Accuracy: 1.0\n",
      "Confusion Matrix:\n",
      "[[ 1251     0     0]\n",
      " [    0 12848     0]\n",
      " [    0     0  1621]]\n",
      "Classification Report:\n",
      "               precision    recall  f1-score   support\n",
      "\n",
      "    high_risk       1.00      1.00      1.00      1251\n",
      "     low_risk       1.00      1.00      1.00     12848\n",
      "moderate_risk       1.00      1.00      1.00      1621\n",
      "\n",
      "     accuracy                           1.00     15720\n",
      "    macro avg       1.00      1.00      1.00     15720\n",
      " weighted avg       1.00      1.00      1.00     15720\n",
      "\n"
     ]
    },
    {
     "name": "stderr",
     "output_type": "stream",
     "text": [
      "/Users/pranavsekhar/miniconda3/envs/prw1/lib/python3.9/site-packages/sklearn/linear_model/_logistic.py:460: ConvergenceWarning: lbfgs failed to converge (status=1):\n",
      "STOP: TOTAL NO. of ITERATIONS REACHED LIMIT.\n",
      "\n",
      "Increase the number of iterations (max_iter) or scale the data as shown in:\n",
      "    https://scikit-learn.org/stable/modules/preprocessing.html\n",
      "Please also refer to the documentation for alternative solver options:\n",
      "    https://scikit-learn.org/stable/modules/linear_model.html#logistic-regression\n",
      "  n_iter_i = _check_optimize_result(\n"
     ]
    },
    {
     "name": "stdout",
     "output_type": "stream",
     "text": [
      "LogisticRegression - Accuracy: 0.9881679389312977\n",
      "Confusion Matrix:\n",
      "[[ 1246     0     5]\n",
      " [    3 12761    84]\n",
      " [    8    86  1527]]\n",
      "Classification Report:\n",
      "               precision    recall  f1-score   support\n",
      "\n",
      "    high_risk       0.99      1.00      0.99      1251\n",
      "     low_risk       0.99      0.99      0.99     12848\n",
      "moderate_risk       0.94      0.94      0.94      1621\n",
      "\n",
      "     accuracy                           0.99     15720\n",
      "    macro avg       0.98      0.98      0.98     15720\n",
      " weighted avg       0.99      0.99      0.99     15720\n",
      "\n",
      "SVC - Accuracy: 0.994529262086514\n",
      "Confusion Matrix:\n",
      "[[ 1251     0     0]\n",
      " [    0 12762    86]\n",
      " [    0     0  1621]]\n",
      "Classification Report:\n",
      "               precision    recall  f1-score   support\n",
      "\n",
      "    high_risk       1.00      1.00      1.00      1251\n",
      "     low_risk       1.00      0.99      1.00     12848\n",
      "moderate_risk       0.95      1.00      0.97      1621\n",
      "\n",
      "     accuracy                           0.99     15720\n",
      "    macro avg       0.98      1.00      0.99     15720\n",
      " weighted avg       0.99      0.99      0.99     15720\n",
      "\n",
      "DecisionTree - Accuracy: 1.0\n",
      "Confusion Matrix:\n",
      "[[ 1251     0     0]\n",
      " [    0 12848     0]\n",
      " [    0     0  1621]]\n",
      "Classification Report:\n",
      "               precision    recall  f1-score   support\n",
      "\n",
      "    high_risk       1.00      1.00      1.00      1251\n",
      "     low_risk       1.00      1.00      1.00     12848\n",
      "moderate_risk       1.00      1.00      1.00      1621\n",
      "\n",
      "     accuracy                           1.00     15720\n",
      "    macro avg       1.00      1.00      1.00     15720\n",
      " weighted avg       1.00      1.00      1.00     15720\n",
      "\n",
      "KNeighbors - Accuracy: 0.994147582697201\n",
      "Confusion Matrix:\n",
      "[[ 1251     0     0]\n",
      " [    0 12773    75]\n",
      " [    0    17  1604]]\n",
      "Classification Report:\n",
      "               precision    recall  f1-score   support\n",
      "\n",
      "    high_risk       1.00      1.00      1.00      1251\n",
      "     low_risk       1.00      0.99      1.00     12848\n",
      "moderate_risk       0.96      0.99      0.97      1621\n",
      "\n",
      "     accuracy                           0.99     15720\n",
      "    macro avg       0.98      0.99      0.99     15720\n",
      " weighted avg       0.99      0.99      0.99     15720\n",
      "\n",
      "GradientBoosting - Accuracy: 1.0\n",
      "Confusion Matrix:\n",
      "[[ 1251     0     0]\n",
      " [    0 12848     0]\n",
      " [    0     0  1621]]\n",
      "Classification Report:\n",
      "               precision    recall  f1-score   support\n",
      "\n",
      "    high_risk       1.00      1.00      1.00      1251\n",
      "     low_risk       1.00      1.00      1.00     12848\n",
      "moderate_risk       1.00      1.00      1.00      1621\n",
      "\n",
      "     accuracy                           1.00     15720\n",
      "    macro avg       1.00      1.00      1.00     15720\n",
      " weighted avg       1.00      1.00      1.00     15720\n",
      "\n",
      "AdaBoost - Accuracy: 1.0\n",
      "Confusion Matrix:\n",
      "[[ 1251     0     0]\n",
      " [    0 12848     0]\n",
      " [    0     0  1621]]\n",
      "Classification Report:\n",
      "               precision    recall  f1-score   support\n",
      "\n",
      "    high_risk       1.00      1.00      1.00      1251\n",
      "     low_risk       1.00      1.00      1.00     12848\n",
      "moderate_risk       1.00      1.00      1.00      1621\n",
      "\n",
      "     accuracy                           1.00     15720\n",
      "    macro avg       1.00      1.00      1.00     15720\n",
      " weighted avg       1.00      1.00      1.00     15720\n",
      "\n",
      "Bagging - Accuracy: 1.0\n",
      "Confusion Matrix:\n",
      "[[ 1251     0     0]\n",
      " [    0 12848     0]\n",
      " [    0     0  1621]]\n",
      "Classification Report:\n",
      "               precision    recall  f1-score   support\n",
      "\n",
      "    high_risk       1.00      1.00      1.00      1251\n",
      "     low_risk       1.00      1.00      1.00     12848\n",
      "moderate_risk       1.00      1.00      1.00      1621\n",
      "\n",
      "     accuracy                           1.00     15720\n",
      "    macro avg       1.00      1.00      1.00     15720\n",
      " weighted avg       1.00      1.00      1.00     15720\n",
      "\n"
     ]
    },
    {
     "ename": "ValueError",
     "evalue": "Invalid classes inferred from unique values of `y`.  Expected: [0 1 2], got ['high_risk' 'low_risk' 'moderate_risk']",
     "output_type": "error",
     "traceback": [
      "\u001b[0;31m---------------------------------------------------------------------------\u001b[0m",
      "\u001b[0;31mValueError\u001b[0m                                Traceback (most recent call last)",
      "Cell \u001b[0;32mIn [14], line 16\u001b[0m\n\u001b[1;32m     14\u001b[0m \u001b[39m# Train and evaluate models\u001b[39;00m\n\u001b[1;32m     15\u001b[0m \u001b[39mfor\u001b[39;00m name, model \u001b[39min\u001b[39;00m models\u001b[39m.\u001b[39mitems():\n\u001b[0;32m---> 16\u001b[0m     model\u001b[39m.\u001b[39;49mfit(X_train, y_train)\n\u001b[1;32m     17\u001b[0m     y_pred \u001b[39m=\u001b[39m model\u001b[39m.\u001b[39mpredict(X_test)\n\u001b[1;32m     18\u001b[0m     accuracy \u001b[39m=\u001b[39m accuracy_score(y_test, y_pred)\n",
      "File \u001b[0;32m~/miniconda3/envs/prw1/lib/python3.9/site-packages/xgboost/core.py:620\u001b[0m, in \u001b[0;36mrequire_keyword_args.<locals>.throw_if.<locals>.inner_f\u001b[0;34m(*args, **kwargs)\u001b[0m\n\u001b[1;32m    618\u001b[0m \u001b[39mfor\u001b[39;00m k, arg \u001b[39min\u001b[39;00m \u001b[39mzip\u001b[39m(sig\u001b[39m.\u001b[39mparameters, args):\n\u001b[1;32m    619\u001b[0m     kwargs[k] \u001b[39m=\u001b[39m arg\n\u001b[0;32m--> 620\u001b[0m \u001b[39mreturn\u001b[39;00m func(\u001b[39m*\u001b[39;49m\u001b[39m*\u001b[39;49mkwargs)\n",
      "File \u001b[0;32m~/miniconda3/envs/prw1/lib/python3.9/site-packages/xgboost/sklearn.py:1440\u001b[0m, in \u001b[0;36mXGBClassifier.fit\u001b[0;34m(self, X, y, sample_weight, base_margin, eval_set, eval_metric, early_stopping_rounds, verbose, xgb_model, sample_weight_eval_set, base_margin_eval_set, feature_weights, callbacks)\u001b[0m\n\u001b[1;32m   1435\u001b[0m     expected_classes \u001b[39m=\u001b[39m np\u001b[39m.\u001b[39marange(\u001b[39mself\u001b[39m\u001b[39m.\u001b[39mn_classes_)\n\u001b[1;32m   1436\u001b[0m \u001b[39mif\u001b[39;00m (\n\u001b[1;32m   1437\u001b[0m     \u001b[39mself\u001b[39m\u001b[39m.\u001b[39mclasses_\u001b[39m.\u001b[39mshape \u001b[39m!=\u001b[39m expected_classes\u001b[39m.\u001b[39mshape\n\u001b[1;32m   1438\u001b[0m     \u001b[39mor\u001b[39;00m \u001b[39mnot\u001b[39;00m (\u001b[39mself\u001b[39m\u001b[39m.\u001b[39mclasses_ \u001b[39m==\u001b[39m expected_classes)\u001b[39m.\u001b[39mall()\n\u001b[1;32m   1439\u001b[0m ):\n\u001b[0;32m-> 1440\u001b[0m     \u001b[39mraise\u001b[39;00m \u001b[39mValueError\u001b[39;00m(\n\u001b[1;32m   1441\u001b[0m         \u001b[39mf\u001b[39m\u001b[39m\"\u001b[39m\u001b[39mInvalid classes inferred from unique values of `y`.  \u001b[39m\u001b[39m\"\u001b[39m\n\u001b[1;32m   1442\u001b[0m         \u001b[39mf\u001b[39m\u001b[39m\"\u001b[39m\u001b[39mExpected: \u001b[39m\u001b[39m{\u001b[39;00mexpected_classes\u001b[39m}\u001b[39;00m\u001b[39m, got \u001b[39m\u001b[39m{\u001b[39;00m\u001b[39mself\u001b[39m\u001b[39m.\u001b[39mclasses_\u001b[39m}\u001b[39;00m\u001b[39m\"\u001b[39m\n\u001b[1;32m   1443\u001b[0m     )\n\u001b[1;32m   1445\u001b[0m params \u001b[39m=\u001b[39m \u001b[39mself\u001b[39m\u001b[39m.\u001b[39mget_xgb_params()\n\u001b[1;32m   1447\u001b[0m \u001b[39mif\u001b[39;00m callable(\u001b[39mself\u001b[39m\u001b[39m.\u001b[39mobjective):\n",
      "\u001b[0;31mValueError\u001b[0m: Invalid classes inferred from unique values of `y`.  Expected: [0 1 2], got ['high_risk' 'low_risk' 'moderate_risk']"
     ]
    }
   ],
   "source": [
    "models = {\n",
    "    'RandomForest': RandomForestClassifier(random_state=42),\n",
    "    'LogisticRegression': LogisticRegression(max_iter=1000),\n",
    "    'SVC': SVC(decision_function_shape='ovo'),\n",
    "    'DecisionTree': DecisionTreeClassifier(random_state=42),\n",
    "    'KNeighbors': KNeighborsClassifier(),\n",
    "    'GradientBoosting': GradientBoostingClassifier(random_state=42),\n",
    "    'AdaBoost': AdaBoostClassifier(random_state=42),\n",
    "    'Bagging': BaggingClassifier(random_state=42),\n",
    "    'XGB': xgb.XGBClassifier(random_state=42, use_label_encoder=False, eval_metric='mlogloss'),\n",
    "    'LightGBM': lgb.LGBMClassifier(learning_rate=0.01, n_estimators=100, random_state=42)\n",
    "}\n",
    "\n",
    "# Train and evaluate models\n",
    "for name, model in models.items():\n",
    "    model.fit(X_train, y_train)\n",
    "    y_pred = model.predict(X_test)\n",
    "    accuracy = accuracy_score(y_test, y_pred)\n",
    "    conf_matrix = confusion_matrix(y_test, y_pred)\n",
    "    class_report = classification_report(y_test, y_pred)\n",
    "    print(f\"{name} - Accuracy: {accuracy}\")\n",
    "    print(f\"Confusion Matrix:\\n{conf_matrix}\")\n",
    "    print(f\"Classification Report:\\n{class_report}\")"
   ]
  },
  {
   "cell_type": "code",
   "execution_count": null,
   "metadata": {},
   "outputs": [],
   "source": []
  }
 ],
 "metadata": {
  "kernelspec": {
   "display_name": "prw1",
   "language": "python",
   "name": "python3"
  },
  "language_info": {
   "codemirror_mode": {
    "name": "ipython",
    "version": 3
   },
   "file_extension": ".py",
   "mimetype": "text/x-python",
   "name": "python",
   "nbconvert_exporter": "python",
   "pygments_lexer": "ipython3",
   "version": "3.9.12"
  },
  "orig_nbformat": 4,
  "vscode": {
   "interpreter": {
    "hash": "abb083db97943d69d856f02622066b22685dbcb879c94d79e57485b98ceab122"
   }
  }
 },
 "nbformat": 4,
 "nbformat_minor": 2
}
